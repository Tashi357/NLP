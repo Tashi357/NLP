{
 "cells": [
  {
   "cell_type": "code",
   "execution_count": 3,
   "id": "5cd9e044-eea1-4e86-a0a0-d7a48f3e89ac",
   "metadata": {},
   "outputs": [
    {
     "name": "stdout",
     "output_type": "stream",
     "text": [
      "Requirement already satisfied: nltk in /Applications/anaconda3/anaconda3/lib/python3.11/site-packages (3.8.1)\n",
      "Requirement already satisfied: click in /Applications/anaconda3/anaconda3/lib/python3.11/site-packages (from nltk) (8.1.7)\n",
      "Requirement already satisfied: joblib in /Applications/anaconda3/anaconda3/lib/python3.11/site-packages (from nltk) (1.2.0)\n",
      "Requirement already satisfied: regex>=2021.8.3 in /Applications/anaconda3/anaconda3/lib/python3.11/site-packages (from nltk) (2023.10.3)\n",
      "Requirement already satisfied: tqdm in /Applications/anaconda3/anaconda3/lib/python3.11/site-packages (from nltk) (4.65.0)\n"
     ]
    }
   ],
   "source": [
    "!pip install nltk"
   ]
  },
  {
   "cell_type": "code",
   "execution_count": 9,
   "id": "867d8bd1-3a2c-4e7d-b350-b3b2b1739ae5",
   "metadata": {},
   "outputs": [
    {
     "name": "stderr",
     "output_type": "stream",
     "text": [
      "[nltk_data] Downloading package punkt to /Users/binodrai/nltk_data...\n",
      "[nltk_data]   Package punkt is already up-to-date!\n",
      "[nltk_data] Downloading package stopwords to\n",
      "[nltk_data]     /Users/binodrai/nltk_data...\n",
      "[nltk_data]   Package stopwords is already up-to-date!\n",
      "[nltk_data] Downloading package wordnet to\n",
      "[nltk_data]     /Users/binodrai/nltk_data...\n",
      "[nltk_data]   Package wordnet is already up-to-date!\n",
      "[nltk_data] Downloading package omw-1.4 to\n",
      "[nltk_data]     /Users/binodrai/nltk_data...\n",
      "[nltk_data]   Package omw-1.4 is already up-to-date!\n",
      "[nltk_data] Downloading package averaged_perceptron_tagger to\n",
      "[nltk_data]     /Users/binodrai/nltk_data...\n",
      "[nltk_data]   Package averaged_perceptron_tagger is already up-to-\n",
      "[nltk_data]       date!\n"
     ]
    },
    {
     "data": {
      "text/plain": [
       "True"
      ]
     },
     "execution_count": 9,
     "metadata": {},
     "output_type": "execute_result"
    }
   ],
   "source": [
    "import nltk\n",
    "from nltk.tokenize import word_tokenize\n",
    "from nltk.corpus import stopwords\n",
    "from nltk.stem import PorterStemmer, WordNetLemmatizer\n",
    "import re\n",
    "from nltk.corpus import wordnet\n",
    "# Download NLTK resources\n",
    "nltk.download('punkt')\n",
    "nltk.download('stopwords')\n",
    "nltk.download('wordnet')\n",
    "nltk.download('omw-1.4')\n",
    "nltk.download('averaged_perceptron_tagger')"
   ]
  },
  {
   "cell_type": "code",
   "execution_count": 4,
   "id": "835af0b5-e932-48e4-bcb6-ee4f7e61b997",
   "metadata": {},
   "outputs": [
    {
     "name": "stdout",
     "output_type": "stream",
     "text": [
      "English Stop Words:\n",
      "{'the', 'me', 'had', 'a', 'between', 'which', 'but', 'haven', \"don't\", 'i', 'hers', 'himself', 'am', 'to', 'why', 'about', 'these', 'we', 'here', 'being', 'not', 'further', 'needn', 'ain', 'you', 'your', 'can', 'when', 've', 'same', 'just', 'there', 'through', \"won't\", 'its', 'who', 'd', 'each', 'under', \"hadn't\", 'she', 'of', 'aren', 'is', 'been', 'have', 's', 'doing', 'or', 'on', 'what', 'during', 'out', \"doesn't\", 'off', \"mightn't\", \"didn't\", 'our', 'shan', \"you'd\", 'o', 'didn', 'should', 'because', 'ma', \"needn't\", 'no', 'while', 'yours', \"hasn't\", 'don', 'most', \"wasn't\", 'myself', 'so', 'some', 'her', 'll', 'above', 'for', 'y', 'only', \"isn't\", 'all', 'that', 'then', 'wouldn', 'by', 'ourselves', 'do', 'in', 'too', 'once', 'few', 'below', 'them', 'were', 'any', \"you're\", 'than', 'now', 't', 'itself', 'up', 'nor', 'will', 'themselves', 'm', 'did', 'he', 'and', 'such', 'they', 'an', \"aren't\", 'ours', 'at', 'mustn', 'hasn', \"that'll\", 'until', 'doesn', 'was', 'hadn', 'if', 'be', 're', \"you'll\", \"mustn't\", \"it's\", 'from', \"shan't\", \"wouldn't\", 'over', 'after', 'herself', 'has', 'him', 'shouldn', 'wasn', 'more', 'mightn', \"should've\", 'down', 'theirs', 'whom', 'yourself', 'into', 'won', \"you've\", 'with', \"haven't\", 'having', \"weren't\", \"she's\", 'other', 'weren', 'my', 'how', 'very', 'before', 'as', 'isn', \"shouldn't\", 'yourselves', 'his', 'it', 'their', 'those', 'against', 'both', 'couldn', \"couldn't\", 'are', 'this', 'own', 'where', 'again', 'does'}\n"
     ]
    }
   ],
   "source": [
    "# Get the list of stop words\n",
    "stop_words = set(stopwords.words('english'))\n",
    "\n",
    "# Print all stop words\n",
    "print(\"English Stop Words:\")\n",
    "print(stop_words)"
   ]
  },
  {
   "cell_type": "code",
   "execution_count": 5,
   "id": "b7aa8490-ca92-40c3-a7a2-9492e1d2ff4c",
   "metadata": {},
   "outputs": [
    {
     "name": "stdout",
     "output_type": "stream",
     "text": [
      "Filtered Tokens: ['bought', 'new', 'fishing', 'rod']\n"
     ]
    }
   ],
   "source": [
    "stop_words = set(stopwords.words('english'))\n",
    "filtered_tokens = [word for word in tokens if word.lower() not in stop_words]\n",
    "print(\"Filtered Tokens:\", filtered_tokens)"
   ]
  },
  {
   "cell_type": "code",
   "execution_count": 10,
   "id": "c6c72e1e-c04a-415e-a412-594869997310",
   "metadata": {},
   "outputs": [
    {
     "name": "stdout",
     "output_type": "stream",
     "text": [
      "Original Document: The children are playing in the garden.\n",
      "Filtered Tokens: ['children', 'playing', 'garden']\n",
      "Stemmed Tokens: ['children', 'play', 'garden']\n",
      "Lemmatized Tokens: ['child', 'play', 'garden']\n",
      "--------------------------------------------------\n",
      "Original Document: She enjoys running every morning.\n",
      "Filtered Tokens: ['enjoys', 'running', 'every', 'morning']\n",
      "Stemmed Tokens: ['enjoy', 'run', 'everi', 'morn']\n",
      "Lemmatized Tokens: ['enjoys', 'run', 'every', 'morning']\n",
      "--------------------------------------------------\n",
      "Original Document: He has been a runner for ten years.\n",
      "Filtered Tokens: ['runner', 'ten', 'years']\n",
      "Stemmed Tokens: ['runner', 'ten', 'year']\n",
      "Lemmatized Tokens: ['runner', 'ten', 'year']\n",
      "--------------------------------------------------\n",
      "Original Document: Dogs are loyal animals.\n",
      "Filtered Tokens: ['dogs', 'loyal', 'animals']\n",
      "Stemmed Tokens: ['dog', 'loyal', 'anim']\n",
      "Lemmatized Tokens: ['dog', 'loyal', 'animal']\n",
      "--------------------------------------------------\n",
      "Original Document: She fishes every weekend at the lake.\n",
      "Filtered Tokens: ['fishes', 'every', 'weekend', 'lake']\n",
      "Stemmed Tokens: ['fish', 'everi', 'weekend', 'lake']\n",
      "Lemmatized Tokens: ['fish', 'every', 'weekend', 'lake']\n",
      "--------------------------------------------------\n",
      "Original Document: The fisherman has fished in this river for decades.\n",
      "Filtered Tokens: ['fisherman', 'fished', 'river', 'decades']\n",
      "Stemmed Tokens: ['fisherman', 'fish', 'river', 'decad']\n",
      "Lemmatized Tokens: ['fisherman', 'fish', 'river', 'decade']\n",
      "--------------------------------------------------\n",
      "Original Document: This product is better than the other one.\n",
      "Filtered Tokens: ['product', 'better', 'one']\n",
      "Stemmed Tokens: ['product', 'better', 'one']\n",
      "Lemmatized Tokens: ['product', 'well', 'one']\n",
      "--------------------------------------------------\n",
      "Original Document: She bought a new fishing rod.\n",
      "Filtered Tokens: ['bought', 'new', 'fishing', 'rod']\n",
      "Stemmed Tokens: ['bought', 'new', 'fish', 'rod']\n",
      "Lemmatized Tokens: ['bought', 'new', 'fishing', 'rod']\n",
      "--------------------------------------------------\n"
     ]
    }
   ],
   "source": [
    "# Initialize the Porter Stemmer and WordNet Lemmatizerstemmer = PorterStemmer() lemmatizer = WordNetLemmatizer() stop_words = set(stopwords.words('english')) # Sample text corpuscorpus = [     \"The children are playing in the garden.\",     \"She enjoys running every morning.\",     \"He has been a runner for ten years.\",     \"Dogs are loyal animals.\",     \"She fishes every weekend at the lake.\",     \"The fisherman has fished in this river for decades.\",     \"This product is better than the other one.\",     \"She bought a new fishing rod.\"] # Function to get the part of speech tag for lemmatizationdef get_wordnet_pos(word):     tag = nltk.pos_tag([word])[0][1][0].upper()     tag_dict = {\"J\": wordnet.ADJ, \"N\": wordnet.NOUN, \"V\": wordnet.VERB, \"R\": wordnet.ADV}     return tag_dict.get(tag, wordnet.NOUN) # Function to preprocess text and perform stemming and lemmatizationdef preprocess_text(text):     # Convert to lowercase    text = text.lower()    # Remove punctuation    text = re.sub(r'[^\\w\\s]', '', text)     # Tokenize    tokens = word_tokenize(text)    # Remove stop words    filtered_tokens = [word for word in tokens if word not in stop_words]     # Apply stemming    stemmed_tokens = [stemmer.stem(word) for word in filtered_tokens]     # Apply lemmatization    lemmatized_tokens = [lemmatizer.lemmatize(word, get_wordnet_pos(word)) for word in filtered_tokens]     return filtered_tokens, stemmed_tokens, lemmatized_tokens # Process each document in the corpusfor document in corpus: filtered_tokens, stemmed_tokens, lemmatized_tokens = preprocess_text(document) print(f\"Original Document: {document}\") print(f\"Filtered Tokens: {filtered_tokens}\") print(f\"Stemmed Tokens: {stemmed_tokens}\") print(f\"Lemmatized Tokens: {lemmatized_tokens}\") print(\"-\" * 50)\n",
    "\n",
    "import nltk\n",
    "from nltk.tokenize import word_tokenize\n",
    "from nltk.corpus import stopwords\n",
    "from nltk.stem import PorterStemmer, WordNetLemmatizer\n",
    " \n",
    "# Download NLTK resources\n",
    "nltk.download('punkt')\n",
    "nltk.download('stopwords')\n",
    "nltk.download('wordnet')\n",
    "nltk.download('omw-1.4')\n",
    "nltk.download('averaged_perceptron_tagger')\n",
    " \n",
    "# Initialize the Porter Stemmer and WordNet Lemmatizer\n",
    "stemmer = PorterStemmer()\n",
    "lemmatizer = WordNetLemmatizer()\n",
    "stop_words = set(stopwords.words('english'))\n",
    " \n",
    "# Sample text corpus\n",
    "corpus = [\n",
    "    \"The children are playing in the garden.\",\n",
    "    \"She enjoys running every morning.\",\n",
    "    \"He has been a runner for ten years.\",\n",
    "    \"Dogs are loyal animals.\",\n",
    "    \"She fishes every weekend at the lake.\",\n",
    "    \"The fisherman has fished in this river for decades.\",\n",
    "    \"This product is better than the other one.\",\n",
    "    \"She bought a new fishing rod.\"\n",
    "]\n",
    " \n",
    "# Function to get the part of speech tag for lemmatization\n",
    "def get_wordnet_pos(word):\n",
    "    tag = nltk.pos_tag([word])[0][1][0].upper()\n",
    "    tag_dict = {\"J\": wordnet.ADJ, \"N\": wordnet.NOUN, \"V\": wordnet.VERB, \"R\": wordnet.ADV}\n",
    "    return tag_dict.get(tag, wordnet.NOUN)\n",
    " \n",
    "# Function to preprocess text and perform stemming and lemmatization\n",
    "def preprocess_text(text):\n",
    "    # Convert to lowercase\n",
    "    text = text.lower()\n",
    "    # Remove punctuation\n",
    "    text = re.sub(r'[^\\w\\s]', '', text)\n",
    "    # Tokenize\n",
    "    tokens = word_tokenize(text)\n",
    "    # Remove stop words\n",
    "    filtered_tokens = [word for word in tokens if word not in stop_words]\n",
    "    # Apply stemming\n",
    "    stemmed_tokens = [stemmer.stem(word) for word in filtered_tokens]\n",
    "    # Apply lemmatization\n",
    "    lemmatized_tokens = [lemmatizer.lemmatize(word, get_wordnet_pos(word)) for word in filtered_tokens]\n",
    "    return filtered_tokens, stemmed_tokens, lemmatized_tokens\n",
    " \n",
    "# Process each document in the corpus\n",
    "for document in corpus:\n",
    "    filtered_tokens, stemmed_tokens, lemmatized_tokens = preprocess_text(document)\n",
    "    print(f\"Original Document: {document}\")\n",
    "    print(f\"Filtered Tokens: {filtered_tokens}\")\n",
    "    print(f\"Stemmed Tokens: {stemmed_tokens}\")\n",
    "    print(f\"Lemmatized Tokens: {lemmatized_tokens}\")\n",
    "    print(\"-\" * 50)"
   ]
  }
 ],
 "metadata": {
  "kernelspec": {
   "display_name": "Python 3 (ipykernel)",
   "language": "python",
   "name": "python3"
  },
  "language_info": {
   "codemirror_mode": {
    "name": "ipython",
    "version": 3
   },
   "file_extension": ".py",
   "mimetype": "text/x-python",
   "name": "python",
   "nbconvert_exporter": "python",
   "pygments_lexer": "ipython3",
   "version": "3.11.7"
  }
 },
 "nbformat": 4,
 "nbformat_minor": 5
}
